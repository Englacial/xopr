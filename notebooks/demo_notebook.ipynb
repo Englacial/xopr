{
 "cells": [
  {
   "cell_type": "code",
   "execution_count": null,
   "id": "3ff727ab",
   "metadata": {},
   "outputs": [],
   "source": [
    "%load_ext autoreload\n",
    "%autoreload 2"
   ]
  },
  {
   "cell_type": "code",
   "execution_count": null,
   "id": "1d5a6e4b",
   "metadata": {},
   "outputs": [],
   "source": [
    "import numpy as np\n",
    "import xarray as xr\n",
    "import hvplot.xarray\n",
    "import geoviews as gv\n",
    "import geoviews.feature as gf\n",
    "import cartopy.crs as ccrs\n",
    "import cartopy.feature as cfeature\n",
    "import matplotlib.pyplot as plt\n",
    "\n",
    "import xopr.opr_access as xopr"
   ]
  },
  {
   "cell_type": "code",
   "execution_count": null,
   "id": "9a567aae",
   "metadata": {},
   "outputs": [],
   "source": [
    "# Establish an OPR session\n",
    "# The purpose of this right now is just to define a local cache directory, but \n",
    "# in the future we might use it to determine which STAC catalog to use or something.\n",
    "opr = xopr.OPRConnection(cache_dir=\"radar_cache\")"
   ]
  },
  {
   "cell_type": "code",
   "execution_count": null,
   "id": "196852ad",
   "metadata": {},
   "outputs": [],
   "source": [
    "# Use xopr to query the STAC catalog for radar frames within a bounding box\n",
    "\n",
    "# TODO: Placeholder. No STAC catalog yet."
   ]
  },
  {
   "cell_type": "code",
   "execution_count": null,
   "id": "089dd1ac",
   "metadata": {},
   "outputs": [],
   "source": [
    "# Placeholder for loading data\n",
    "\n",
    "#urls = [f\"https://data.cresis.ku.edu/data/rds/2022_Antarctica_BaslerMKB/CSARP_standard/20221210_01/Data_20221210_01_{i:03d}.mat\" for i in range(1, 10)]\n",
    "urls = [f'https://data.cresis.ku.edu/data/rds/2016_Antarctica_DC8/CSARP_standard/20161026_05/Data_20161026_05_{i:03d}.mat' for i in range(1, 10)]\n",
    "\n",
    "frames = [opr.load_frame(url) for url in urls]"
   ]
  },
  {
   "cell_type": "code",
   "execution_count": null,
   "id": "4d075dd2",
   "metadata": {},
   "outputs": [],
   "source": [
    "# Inspect an individual frame\n",
    "frames[0]"
   ]
  },
  {
   "cell_type": "code",
   "execution_count": null,
   "id": "b65d9bf4",
   "metadata": {},
   "outputs": [],
   "source": [
    "# Combine the frames into a single xarray Dataset representing the flight line\n",
    "flight_line = xr.concat(frames, dim='slow_time', combine_attrs='drop_conflicts')\n",
    "flight_line = xopr.get_layers(flight_line)\n",
    "flight_line"
   ]
  },
  {
   "cell_type": "code",
   "execution_count": null,
   "id": "4f5fa3f5",
   "metadata": {},
   "outputs": [],
   "source": [
    "# Plot a map of where the data was collected with a basemap on an EPSG:3031 projection\n",
    "proj = ccrs.Stereographic(central_latitude=-90, true_scale_latitude=-71)\n",
    "coords = flight_line[['Longitude', 'Latitude']].to_dataframe().dropna()\n",
    "(gf.ocean * gf.coastline * gv.Path([coords.values])).opts(projection=proj, aspect='equal')\n"
   ]
  },
  {
   "cell_type": "code",
   "execution_count": null,
   "id": "58f960b3",
   "metadata": {},
   "outputs": [],
   "source": [
    "stacked = flight_line.Data.rolling(slow_time=10, center=True).mean()\n",
    "pwr_dB = 10*np.log10(np.abs(stacked))"
   ]
  },
  {
   "cell_type": "code",
   "execution_count": null,
   "id": "8123f0d5",
   "metadata": {},
   "outputs": [],
   "source": [
    "fig, ax = plt.subplots(figsize=(15, 4))\n",
    "pwr_dB.plot.imshow(x='slow_time', cmap='gray', ax=ax)\n",
    "ax.invert_yaxis()\n",
    "\n",
    "flight_line['layer_1_twtt'].plot(ax=ax, x='slow_time')"
   ]
  },
  {
   "cell_type": "code",
   "execution_count": null,
   "id": "20e669ee",
   "metadata": {},
   "outputs": [],
   "source": [
    "print(xopr.generate_citation(flight_line))"
   ]
  },
  {
   "cell_type": "code",
   "execution_count": null,
   "id": "a567729c",
   "metadata": {},
   "outputs": [],
   "source": []
  }
 ],
 "metadata": {
  "kernelspec": {
   "display_name": "xopr1",
   "language": "python",
   "name": "python3"
  },
  "language_info": {
   "codemirror_mode": {
    "name": "ipython",
    "version": 3
   },
   "file_extension": ".py",
   "mimetype": "text/x-python",
   "name": "python",
   "nbconvert_exporter": "python",
   "pygments_lexer": "ipython3",
   "version": "3.13.5"
  }
 },
 "nbformat": 4,
 "nbformat_minor": 5
}
