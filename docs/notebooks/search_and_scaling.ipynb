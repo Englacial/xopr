{
 "cells": [
  {
   "cell_type": "markdown",
   "id": "1bf5e1cb",
   "metadata": {},
   "source": [
    "---\n",
    "title: Searching by region\n",
    "description: Demonstration of how to find flight segments by geographic region\n",
    "date: 2025-08-07\n",
    "---\n",
    "\n",
    "This notebook demonstrates how to query for radar frames within a particular geometric area."
   ]
  },
  {
   "cell_type": "code",
   "execution_count": null,
   "id": "b0a040c8",
   "metadata": {},
   "outputs": [],
   "source": [
    "%load_ext autoreload\n",
    "%autoreload 2\n",
    "\n",
    "import numpy as np\n",
    "import xarray as xr\n",
    "import hvplot.xarray\n",
    "import geoviews as gv\n",
    "import geoviews.feature as gf\n",
    "import cartopy.crs as ccrs\n",
    "import matplotlib.pyplot as plt\n",
    "\n",
    "import xopr.opr_access\n",
    "import xopr.geometry\n",
    "\n",
    "hvplot.extension('bokeh')\n",
    "\n",
    "# Useful projections\n",
    "epsg_3031 = ccrs.Stereographic(central_latitude=-90, true_scale_latitude=-71)\n",
    "latlng = ccrs.PlateCarree()\n",
    "features = gf.ocean.options(scale='50m').opts(projection=epsg_3031) * gf.coastline.options(scale='50m').opts(projection=epsg_3031)"
   ]
  },
  {
   "cell_type": "code",
   "execution_count": null,
   "id": "6d97fcee",
   "metadata": {},
   "outputs": [],
   "source": [
    "# Establish an OPR session\n",
    "# You'll probably want to set a cache directory if you're running this locally to speed\n",
    "# up subsequent requests. You can do other things like customize the STAC API endpoint,\n",
    "# but you shouldn't need to do that for most use cases.\n",
    "opr = xopr.opr_access.OPRConnection(cache_dir=\"radar_cache\")\n",
    "\n",
    "# Or you can open a connection without a cache directory (for example, if you're parallelizing\n",
    "# this on a cloud cluster without persistent storage).\n",
    "#opr = xopr.OPRConnection()"
   ]
  },
  {
   "cell_type": "code",
   "execution_count": null,
   "id": "6a115110",
   "metadata": {},
   "outputs": [],
   "source": [
    "region = xopr.geometry.get_antarctic_regions(name=\"Dotson\", type=\"FL\", merge_regions=True)\n",
    "region"
   ]
  },
  {
   "cell_type": "code",
   "execution_count": null,
   "id": "bd964ccb",
   "metadata": {},
   "outputs": [],
   "source": [
    "frames = opr.search_by_geometry(region, max_items=10) # To speed things up for this example, we limit the number of items returned to 10."
   ]
  },
  {
   "cell_type": "code",
   "execution_count": null,
   "id": "c1273de1",
   "metadata": {},
   "outputs": [],
   "source": [
    "# Plot a map of our loaded data over the selected region on an EPSG:3031 projection\n",
    "\n",
    "# Create a GeoViews object for the selected region\n",
    "region_gv = gv.Polygons(region, crs=latlng).opts(\n",
    "    color='green',\n",
    "    line_color='black',\n",
    "    fill_alpha=0.5,\n",
    "    projection=epsg_3031,\n",
    ")\n",
    "# Plot the frame geometries\n",
    "frame_lines = []\n",
    "for frame in frames:\n",
    "    coords = frame[['Longitude', 'Latitude']].to_dataframe().dropna()\n",
    "    line_plot = gv.Path([coords.values]).opts()\n",
    "    frame_lines.append(line_plot)\n",
    "\n",
    "(features * region_gv * gv.Overlay(frame_lines)).opts(projection=epsg_3031)"
   ]
  },
  {
   "cell_type": "code",
   "execution_count": null,
   "id": "e3c9c4d9",
   "metadata": {},
   "outputs": [],
   "source": []
  }
 ],
 "metadata": {
  "kernelspec": {
   "display_name": "xopr",
   "language": "python",
   "name": "python3"
  },
  "language_info": {
   "codemirror_mode": {
    "name": "ipython",
    "version": 3
   },
   "file_extension": ".py",
   "mimetype": "text/x-python",
   "name": "python",
   "nbconvert_exporter": "python",
   "pygments_lexer": "ipython3",
   "version": "3.10.12"
  }
 },
 "nbformat": 4,
 "nbformat_minor": 5
}
