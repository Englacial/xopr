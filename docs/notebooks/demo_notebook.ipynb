{
 "cells": [
  {
   "cell_type": "code",
   "execution_count": null,
   "id": "3ff727ab",
   "metadata": {},
   "outputs": [],
   "source": [
    "%load_ext autoreload\n",
    "%autoreload 2"
   ]
  },
  {
   "cell_type": "code",
   "execution_count": null,
   "id": "1d5a6e4b",
   "metadata": {},
   "outputs": [],
   "source": [
    "import numpy as np\n",
    "import xarray as xr\n",
    "import hvplot.xarray\n",
    "import geoviews as gv\n",
    "import geoviews.feature as gf\n",
    "import cartopy.crs as ccrs\n",
    "import cartopy.feature as cfeature\n",
    "import matplotlib.pyplot as plt\n",
    "import pandas as pd\n",
    "\n",
    "import xopr.opr_access as xopr"
   ]
  },
  {
   "cell_type": "code",
   "execution_count": null,
   "id": "9a567aae",
   "metadata": {},
   "outputs": [],
   "source": [
    "# Establish an OPR session\n",
    "# You'll probably want to set a cache directory if you're running this locally to speed\n",
    "# up subsequent requests. You can do other things like customize the STAC API endpoint,\n",
    "# but you shouldn't need to do that for most use cases.\n",
    "opr = xopr.OPRConnection(cache_dir=\"radar_cache\")\n",
    "\n",
    "# Or you can open a connection without a cache directory (for example, if you're parallelizing\n",
    "# this on a cloud cluster without persistent storage).\n",
    "#opr = xopr.OPRConnection()"
   ]
  },
  {
   "cell_type": "code",
   "execution_count": null,
   "id": "196852ad",
   "metadata": {},
   "outputs": [],
   "source": [
    "# List the available OPR datasets\n",
    "collections = opr.get_collections()\n",
    "print([c['id'] for c in collections])\n",
    "selected_collection = collections[1]['id']  # Select a collection for demonstration\n",
    "print(f\"Selected collection: {selected_collection}\")"
   ]
  },
  {
   "cell_type": "code",
   "execution_count": null,
   "id": "66ef1fac",
   "metadata": {},
   "outputs": [],
   "source": [
    "# List flights in the selected collection\n",
    "flights = opr.get_flights(selected_collection)\n",
    "print(f\"Found {len(flights)} flights in collection {selected_collection}\")"
   ]
  },
  {
   "cell_type": "code",
   "execution_count": null,
   "id": "089dd1ac",
   "metadata": {},
   "outputs": [],
   "source": [
    "selected_flight = flights[3]['flight_id']  # Select a flight for demonstration\n",
    "print(f\"Selected flight: {selected_flight}\")\n",
    "\n",
    "frames = opr.load_flight(selected_collection, flight_id=selected_flight)"
   ]
  },
  {
   "cell_type": "code",
   "execution_count": null,
   "id": "4d075dd2",
   "metadata": {},
   "outputs": [],
   "source": [
    "# Inspect an individual frame\n",
    "frames[0]"
   ]
  },
  {
   "cell_type": "code",
   "execution_count": null,
   "id": "b65d9bf4",
   "metadata": {},
   "outputs": [],
   "source": [
    "# Combine the frames into a single xarray Dataset representing the flight line\n",
    "flight_line = xr.concat(frames, dim='slow_time', combine_attrs='drop_conflicts')\n",
    "flight_line"
   ]
  },
  {
   "cell_type": "code",
   "execution_count": null,
   "id": "d25d5e3c",
   "metadata": {},
   "outputs": [],
   "source": [
    "layers = None\n",
    "try:\n",
    "    layers = xopr.get_layers(flight_line)\n",
    "    layers[1] # Display the surface layer as an example\n",
    "except Exception as e:\n",
    "    layers = None\n",
    "    print(f\"Error fetching layers: {e}\")"
   ]
  },
  {
   "cell_type": "code",
   "execution_count": null,
   "id": "4f5fa3f5",
   "metadata": {},
   "outputs": [],
   "source": [
    "# Plot a map of where the data was collected with a basemap on an EPSG:3031 projection\n",
    "proj = ccrs.Stereographic(central_latitude=-90, true_scale_latitude=-71)\n",
    "coords = flight_line[['Longitude', 'Latitude']].to_dataframe().dropna()\n",
    "(gf.ocean * gf.coastline * gv.Points([coords.values])).opts(projection=proj, aspect='equal')\n"
   ]
  },
  {
   "cell_type": "code",
   "execution_count": null,
   "id": "58f960b3",
   "metadata": {},
   "outputs": [],
   "source": [
    "#stacked = flight_line.Data.rolling(slow_time=10, center=True).mean()\n",
    "stacked = flight_line.Data.resample(slow_time='2s').mean()\n",
    "pwr_dB = 10*np.log10(np.abs(stacked))"
   ]
  },
  {
   "cell_type": "code",
   "execution_count": null,
   "id": "8123f0d5",
   "metadata": {},
   "outputs": [],
   "source": [
    "fig, ax = plt.subplots(figsize=(15, 4))\n",
    "pwr_dB.plot.imshow(x='slow_time', cmap='gray', ax=ax)\n",
    "ax.invert_yaxis()\n",
    "\n",
    "if layers:\n",
    "    layers[1]['twtt'].plot(ax=ax, x='slow_time', linestyle=':', label='Surface')\n",
    "    layers[2]['twtt'].plot(ax=ax, x='slow_time', linestyle='--', label='Bed')\n",
    "    ax.legend()"
   ]
  },
  {
   "cell_type": "code",
   "execution_count": null,
   "id": "20e669ee",
   "metadata": {},
   "outputs": [],
   "source": [
    "print(opr.generate_citation(flight_line))"
   ]
  },
  {
   "cell_type": "code",
   "execution_count": null,
   "id": "a567729c",
   "metadata": {},
   "outputs": [],
   "source": []
  }
 ],
 "metadata": {
  "kernelspec": {
   "display_name": "xopr",
   "language": "python",
   "name": "python3"
  },
  "language_info": {
   "codemirror_mode": {
    "name": "ipython",
    "version": 3
   },
   "file_extension": ".py",
   "mimetype": "text/x-python",
   "name": "python",
   "nbconvert_exporter": "python",
   "pygments_lexer": "ipython3",
   "version": "3.10.12"
  }
 },
 "nbformat": 4,
 "nbformat_minor": 5
}
