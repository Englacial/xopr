{
 "cells": [
  {
   "cell_type": "markdown",
   "metadata": {},
   "source": [
    "# Radar data availibility in xopr\n"
   ]
  },
  {
   "cell_type": "markdown",
   "metadata": {},
   "source": [
    "## Current Antarctic data accessible by xopr:\n"
   ]
  },
  {
   "cell_type": "code",
   "source": "import urllib.request, json\n\nresponse = urllib.request.urlopen('https://storage.googleapis.com/storage/v1/b/opr_stac/o?prefix=testing/&delimiter=/')\ndata = json.loads(response.read())\nsouth_files = [f'https://storage.googleapis.com/opr_stac/{item[\"name\"]}' for item in data.get('items', []) if 'Antarctica' in item['name']]\nprint(f\"Found {len(south_files)} Antarctic datasets\")",
   "metadata": {},
   "execution_count": null,
   "outputs": []
  },
  {
   "cell_type": "code",
   "metadata": {},
   "source": "from IPython.display import IFrame\nimport json\nimport base64\n\n# Encode configuration as base64 to pass via URL\nconfig = {\n    'pole': 'south',\n    'parquetFiles': south_files,\n    'defaultZoom': 3\n}\nconfig_json = json.dumps(config)\nconfig_b64 = base64.b64encode(config_json.encode()).decode()\n\n# Use IFrame with config in URL hash\nIFrame(f'../_static/maps/polar.html#{config_b64}', width='100%', height=600)",
   "execution_count": null,
   "outputs": []
  },
  {
   "cell_type": "markdown",
   "metadata": {},
   "source": [
    "## Current Arctic data accessible by xopr:\n"
   ]
  },
  {
   "cell_type": "code",
   "source": "north_files = [f'https://storage.googleapis.com/opr_stac/{item[\"name\"]}' for item in data.get('items', []) if 'Arctic' in item['name'] or 'Greenland' in item['name']]\nprint(f\"Found {len(north_files)} Arctic/Greenland datasets\")",
   "metadata": {},
   "execution_count": null,
   "outputs": []
  },
  {
   "cell_type": "code",
   "metadata": {},
   "source": "# Encode configuration for Arctic\nconfig = {\n    'pole': 'north',\n    'parquetFiles': north_files,\n    'defaultZoom': 3\n}\nconfig_json = json.dumps(config)\nconfig_b64 = base64.b64encode(config_json.encode()).decode()\n\nIFrame(f'../_static/maps/polar.html#{config_b64}', width='100%', height=600)",
   "execution_count": null,
   "outputs": []
  }
 ],
 "metadata": {
  "kernelspec": {
   "display_name": "Python 3",
   "language": "python",
   "name": "python3"
  },
  "language_info": {
   "codemirror_mode": {
    "name": "ipython",
    "version": 3
   },
   "file_extension": ".py",
   "mimetype": "text/x-python",
   "name": "python",
   "nbconvert_exporter": "python",
   "pygments_lexer": "ipython3",
   "version": "3.9.0"
  }
 },
 "nbformat": 4,
 "nbformat_minor": 4
}