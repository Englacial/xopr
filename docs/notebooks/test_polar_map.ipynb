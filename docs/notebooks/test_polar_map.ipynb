{
 "cells": [
  {
   "cell_type": "markdown",
   "metadata": {},
   "source": [
    "# Test Polar Map Integration\n",
    "\n",
    "This notebook demonstrates how to embed interactive polar maps with GeoParquet data in Jupyter Book."
   ]
  },
  {
   "cell_type": "markdown",
   "metadata": {},
   "source": [
    "## Antarctic Map Example\n",
    "\n",
    "Below is an interactive map showing test data from Antarctica. The data is loaded from a GeoParquet file that contains a random walk path starting from the South Pole."
   ]
  },
  {
   "cell_type": "markdown",
   "metadata": {},
   "source": [
    "```html\n",
    "<iframe \n",
    "    src=\"../_static/maps/polar.html\" \n",
    "    width=\"100%\" \n",
    "    height=\"600\"\n",
    "    frameborder=\"0\"\n",
    "    style=\"border: 1px solid #ccc; border-radius: 5px;\"\n",
    "    onload=\"this.contentWindow.CONFIG = {pole: 'south', parquetFiles: ['../_static/maps/test_antarctic_random_walk.parquet'], defaultZoom: 3}\">\n",
    "</iframe>\n",
    "```"
   ]
  },
  {
   "cell_type": "markdown",
   "metadata": {},
   "source": [
    "...which renders (using %%html cell magic) as:"
   ]
  },
  {
   "cell_type": "code",
   "metadata": {},
   "source": [
    "%%html \n",
    "<iframe \n",
    "    src=\"../_static/maps/polar.html\" \n",
    "    width=\"100%\" \n",
    "    height=\"600\"\n",
    "    frameborder=\"0\"\n",
    "    style=\"border: 1px solid #ccc; border-radius: 5px;\"\n",
    "    onload=\"this.contentWindow.CONFIG = {pole: 'south', parquetFiles: ['../_static/maps/test_antarctic_random_walk.parquet'], defaultZoom: 3}\">\n",
    "</iframe>\n"
   ]
  },
  {
   "cell_type": "markdown",
   "metadata": {},
   "source": [
    "## Features\n",
    "\n",
    "The map above includes:\n",
    "- **Interactive navigation**: Zoom and pan to explore the data\n",
    "- **Click for details**: Click on any feature to see its name and description\n",
    "- **Coordinate display**: Click on empty areas to see lat/lon coordinates\n",
    "- **GeoParquet support**: Data loaded directly from Parquet files using WebAssembly\n",
    "\n",
    "## Data Format\n",
    "\n",
    "The GeoParquet file contains:\n",
    "- A LineString showing a random walk path from the South Pole\n",
    "- Point features marking the start and end points\n",
    "- Metadata including names and descriptions for each feature"
   ]
  },
  {
   "cell_type": "markdown",
   "metadata": {},
   "source": [
    "## Arctic Map Example\n",
    "\n",
    "You can also display Arctic data by changing the `pole` parameter to `'north'`:\n",
    "\n",
    "```javascript\n",
    "CONFIG = {\n",
    "    pole: 'north',\n",
    "    parquetFiles: ['arctic_data.parquet'],\n",
    "    defaultZoom: 3\n",
    "}\n",
    "```"
   ]
  },
  {
   "cell_type": "markdown",
   "metadata": {},
   "source": [
    "## Python Integration\n",
    "\n",
    "You can also generate maps dynamically from Python:"
   ]
  },
  {
   "cell_type": "code",
   "execution_count": null,
   "metadata": {},
   "outputs": [],
   "source": [
    "from IPython.display import IFrame, HTML\n",
    "import json\n",
    "\n",
    "def create_polar_map(pole='south', parquet_files=None, height=600):\n",
    "    \"\"\"\n",
    "    Create an embedded polar map.\n",
    "    \n",
    "    Parameters:\n",
    "    -----------\n",
    "    pole : str\n",
    "        'north' or 'south' for Arctic or Antarctic projection\n",
    "    parquet_files : list\n",
    "        List of parquet file paths to display\n",
    "    height : int\n",
    "        Height of the map in pixels\n",
    "    \"\"\"\n",
    "    if parquet_files is None:\n",
    "        parquet_files = ['https://github.com/thomasteisberg/xopr/raw/a5438c78f337c25e122f3b61e8061f1f120a86d6/src/xopr/map/test_antarctic_random_walk.parquet']\n",
    "    \n",
    "    config = {\n",
    "        'pole': pole,\n",
    "        'parquetFiles': parquet_files,\n",
    "        'defaultZoom': 3\n",
    "    }\n",
    "    \n",
    "    # Create HTML with embedded configuration\n",
    "    html = f'''\n",
    "    <iframe \n",
    "        src=\"../_static/maps/polar.html\"\n",
    "        width=\"100%\" \n",
    "        height=\"{height}\"\n",
    "        frameborder=\"0\"\n",
    "        style=\"border: 1px solid #ccc; border-radius: 5px;\"\n",
    "        onload=\"this.contentWindow.CONFIG = {json.dumps(config)}\">\n",
    "    </iframe>\n",
    "    '''\n",
    "    \n",
    "    return HTML(html)\n",
    "\n",
    "# Display the map\n",
    "create_polar_map(pole='south', height=500)"
   ]
  },
  {
   "cell_type": "markdown",
   "metadata": {},
   "source": [
    "## Technical Details\n",
    "\n",
    "### Projections Used\n",
    "- **Antarctic**: EPSG:3031 (WGS 84 / Antarctic Polar Stereographic)\n",
    "- **Arctic**: EPSG:3413 (WGS 84 / NSIDC Sea Ice Polar Stereographic North)\n",
    "\n",
    "### Base Maps\n",
    "- NASA GIBS Blue Marble imagery\n",
    "- Served via WMS with proper polar projections\n",
    "\n",
    "### Technology Stack\n",
    "- **OpenLayers**: For map rendering and interaction\n",
    "- **parquet-wasm**: WebAssembly module for reading Parquet files in the browser\n",
    "- **Apache Arrow**: For parsing the Arrow IPC format from parquet-wasm\n",
    "- **proj4js**: For coordinate transformations"
   ]
  }
 ],
 "metadata": {
  "kernelspec": {
   "display_name": "Python 3",
   "language": "python",
   "name": "python3"
  },
  "language_info": {
   "codemirror_mode": {
    "name": "ipython",
    "version": 3
   },
   "file_extension": ".py",
   "mimetype": "text/x-python",
   "name": "python",
   "nbconvert_exporter": "python",
   "pygments_lexer": "ipython3",
   "version": "3.9.0"
  }
 },
 "nbformat": 4,
 "nbformat_minor": 4
}
